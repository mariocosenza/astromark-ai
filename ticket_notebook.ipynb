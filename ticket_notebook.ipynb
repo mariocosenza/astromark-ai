{
 "cells": [
  {
   "cell_type": "code",
   "id": "initial_id",
   "metadata": {
    "collapsed": true,
    "ExecuteTime": {
     "end_time": "2025-02-02T14:48:09.467653Z",
     "start_time": "2025-02-02T14:48:09.454114Z"
    }
   },
   "source": [
    "import pandas as pd\n",
    "import seaborn as sns\n",
    "import numpy as np\n",
    "import re, string\n",
    "import nltk\n",
    "from nltk.tokenize import word_tokenize\n",
    "from nltk.corpus import stopwords\n",
    "from nltk.tokenize import word_tokenize\n",
    "from nltk.stem import SnowballStemmer\n",
    "from nltk.corpus import wordnet\n",
    "from nltk.stem import WordNetLemmatizer\n",
    "nltk.download('punkt')\n",
    "nltk.download('averaged_perceptron_tagger')\n",
    "nltk.download('wordnet')\n",
    "from sklearn.model_selection import train_test_split\n",
    "from sklearn.linear_model import LogisticRegression\n",
    "from sklearn.naive_bayes import MultinomialNB\n",
    "from sklearn.metrics import classification_report, f1_score, accuracy_score, confusion_matrix\n",
    "from sklearn.metrics import roc_curve, auc, roc_auc_score\n",
    "from sklearn.feature_extraction.text import TfidfVectorizer\n",
    "from sklearn.feature_extraction.text import CountVectorizer\n",
    "dataframe_o3 = pd.read_csv(\"data/raw/ticket-o3.csv\", usecols = ['titolo','messaggio','categoria'])\n",
    "dataframe_gc = pd.read_csv(\"data/raw/ticket-gemini-claude.csv\", usecols = ['titolo','messaggio','categoria'])"
   ],
   "outputs": [
    {
     "name": "stderr",
     "output_type": "stream",
     "text": [
      "[nltk_data] Downloading package punkt to\n",
      "[nltk_data]     C:\\Users\\proge\\AppData\\Roaming\\nltk_data...\n",
      "[nltk_data]   Package punkt is already up-to-date!\n",
      "[nltk_data] Downloading package averaged_perceptron_tagger to\n",
      "[nltk_data]     C:\\Users\\proge\\AppData\\Roaming\\nltk_data...\n",
      "[nltk_data]   Package averaged_perceptron_tagger is already up-to-\n",
      "[nltk_data]       date!\n",
      "[nltk_data] Downloading package wordnet to\n",
      "[nltk_data]     C:\\Users\\proge\\AppData\\Roaming\\nltk_data...\n",
      "[nltk_data]   Package wordnet is already up-to-date!\n"
     ]
    }
   ],
   "execution_count": 24
  },
  {
   "metadata": {
    "ExecuteTime": {
     "end_time": "2025-02-02T14:48:12.292167Z",
     "start_time": "2025-02-02T14:48:12.286787Z"
    }
   },
   "cell_type": "code",
   "source": [
    "dataframe = pd.concat([dataframe_o3,dataframe_gc])\n",
    "print(dataframe)"
   ],
   "id": "75de9be00e0effb2",
   "outputs": [
    {
     "name": "stdout",
     "output_type": "stream",
     "text": [
      "                                                titolo  \\\n",
      "0                                         Login Errore   \n",
      "1                                Modifica Dati Profilo   \n",
      "2                            Assistenza Sistema Scuola   \n",
      "3                      Errore Prenotazione Ricevimento   \n",
      "4                        Problema Visualizzazione Voti   \n",
      "..                                                 ...   \n",
      "445  Informazioni Tasse Scolastiche - Mancanza di C...   \n",
      "446  Cambio Classe - Richiesta Respinta Senza Motiv...   \n",
      "447       Documenti Smarriti - Richiesta di Assistenza   \n",
      "448             Contatto Segreteria - Nessuna Risposta   \n",
      "449   Problemi di Connessione - Rete Lenta e Instabile   \n",
      "\n",
      "                                             messaggio   categoria  \n",
      "0    Buongiorno, sto riscontrando un problema con i...     Accesso  \n",
      "1    Salve, ho notato che i miei dati di contatto n...     Profilo  \n",
      "2    Buonasera, utilizzo regolarmente la piattaform...   Didattica  \n",
      "3    Gentile team, ho provato a prenotare un appunt...  Segreteria  \n",
      "4    Buongiorno, durante la consultazione della mia...   Didattica  \n",
      "..                                                 ...         ...  \n",
      "445  Vorrei avere maggiori informazioni sulle tasse...  Segreteria  \n",
      "446  Ho richiesto il cambio di classe, ma la mia ri...  Segreteria  \n",
      "447  Ho smarrito alcuni documenti scolastici import...  Segreteria  \n",
      "448  Ho provato a contattare la segreteria tramite ...  Segreteria  \n",
      "449  Ho problemi di connessione internet. La rete è...     Tecnico  \n",
      "\n",
      "[2610 rows x 3 columns]\n"
     ]
    }
   ],
   "execution_count": 25
  },
  {
   "metadata": {
    "ExecuteTime": {
     "end_time": "2025-02-02T14:48:13.886383Z",
     "start_time": "2025-02-02T14:48:13.881871Z"
    }
   },
   "cell_type": "code",
   "source": [
    "x=dataframe['categoria'].value_counts()\n",
    "print(x)"
   ],
   "id": "d4c17a691323ffd",
   "outputs": [
    {
     "name": "stdout",
     "output_type": "stream",
     "text": [
      "categoria\n",
      "Segreteria    866\n",
      "Didattica     707\n",
      "Accesso       384\n",
      "Profilo       374\n",
      "Tecnico       279\n",
      "Name: count, dtype: int64\n"
     ]
    }
   ],
   "execution_count": 26
  },
  {
   "metadata": {
    "ExecuteTime": {
     "end_time": "2025-02-02T14:48:33.768200Z",
     "start_time": "2025-02-02T14:48:33.679210Z"
    }
   },
   "cell_type": "code",
   "source": "sns.barplot(x)",
   "id": "2171e9b46623387a",
   "outputs": [
    {
     "data": {
      "text/plain": [
       "<Axes: xlabel='categoria', ylabel='count'>"
      ]
     },
     "execution_count": 32,
     "metadata": {},
     "output_type": "execute_result"
    },
    {
     "data": {
      "text/plain": [
       "<Figure size 640x480 with 1 Axes>"
      ],
      "image/png": "[encoded data removed]"
     },
     "metadata": {},
     "output_type": "display_data"
    }
   ],
   "execution_count": 32
  },
  {
   "metadata": {
    "ExecuteTime": {
     "end_time": "2025-02-02T14:50:57.701739Z",
     "start_time": "2025-02-02T14:50:57.696741Z"
    }
   },
   "cell_type": "code",
   "source": [
    "train_set, test_set = train_test_split(dataframe, random_state=42, test_size=0.2)\n",
    "print(train_set.shape, test_set.shape)"
   ],
   "id": "85692b2e46379d58",
   "outputs": [
    {
     "name": "stdout",
     "output_type": "stream",
     "text": [
      "(2088, 3) (522, 3)\n"
     ]
    }
   ],
   "execution_count": 33
  }
 ],
 "metadata": {
  "kernelspec": {
   "display_name": "Python 3",
   "language": "python",
   "name": "python3"
  },
  "language_info": {
   "codemirror_mode": {
    "name": "ipython",
    "version": 2
   },
   "file_extension": ".py",
   "mimetype": "text/x-python",
   "name": "python",
   "nbconvert_exporter": "python",
   "pygments_lexer": "ipython2",
   "version": "2.7.6"
  }
 },
 "nbformat": 4,
 "nbformat_minor": 5
}
