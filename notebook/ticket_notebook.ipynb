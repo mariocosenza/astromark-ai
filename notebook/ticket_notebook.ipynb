{
 "cells": [
  {
   "cell_type": "code",
   "id": "initial_id",
   "metadata": {
    "collapsed": true,
    "ExecuteTime": {
     "end_time": "2025-02-05T08:23:26.842397Z",
     "start_time": "2025-02-05T08:23:24.322468Z"
    }
   },
   "source": [
    "import pandas as pd\n",
    "import seaborn as sns\n",
    "import numpy as np\n",
    "import re, string\n",
    "from sklearn.model_selection import train_test_split\n",
    "from sklearn.linear_model import LogisticRegression\n",
    "from sklearn.naive_bayes import MultinomialNB\n",
    "from sklearn.metrics import classification_report, f1_score, accuracy_score, confusion_matrix\n",
    "from sklearn.metrics import roc_curve, auc, roc_auc_score\n",
    "from sklearn.feature_extraction.text import TfidfVectorizer\n",
    "from sklearn.feature_extraction.text import CountVectorizer\n",
    "dataframe_o3 = pd.read_csv(\"../data/raw/ticket-o3.csv\", usecols = ['titolo','messaggio','categoria'])\n",
    "dataframe_gc = pd.read_csv(\"../data/raw/ticket-gemini-claude.csv\", usecols = ['titolo','messaggio','categoria'])"
   ],
   "outputs": [],
   "execution_count": 1
  },
  {
   "metadata": {
    "ExecuteTime": {
     "end_time": "2025-02-04T14:47:48.526561Z",
     "start_time": "2025-02-04T14:47:48.519471Z"
    }
   },
   "cell_type": "code",
   "source": [
    "dataframe = pd.concat([dataframe_o3,dataframe_gc])\n",
    "print(dataframe)"
   ],
   "id": "75de9be00e0effb2",
   "outputs": [
    {
     "name": "stdout",
     "output_type": "stream",
     "text": [
      "                                                titolo  \\\n",
      "0                                         Login Errore   \n",
      "1                                Modifica Dati Profilo   \n",
      "2                            Assistenza Sistema Scuola   \n",
      "3                      Errore Prenotazione Ricevimento   \n",
      "4                        Problema Visualizzazione Voti   \n",
      "..                                                 ...   \n",
      "445  Informazioni Tasse Scolastiche - Mancanza di C...   \n",
      "446  Cambio Classe - Richiesta Respinta Senza Motiv...   \n",
      "447       Documenti Smarriti - Richiesta di Assistenza   \n",
      "448             Contatto Segreteria - Nessuna Risposta   \n",
      "449   Problemi di Connessione - Rete Lenta e Instabile   \n",
      "\n",
      "                                             messaggio   categoria  \n",
      "0    Buongiorno, sto riscontrando un problema con i...     Accesso  \n",
      "1    Salve, ho notato che i miei dati di contatto n...     Profilo  \n",
      "2    Buonasera, utilizzo regolarmente la piattaform...   Didattica  \n",
      "3    Gentile team, ho provato a prenotare un appunt...  Segreteria  \n",
      "4    Buongiorno, durante la consultazione della mia...   Didattica  \n",
      "..                                                 ...         ...  \n",
      "445  Vorrei avere maggiori informazioni sulle tasse...  Segreteria  \n",
      "446  Ho richiesto il cambio di classe, ma la mia ri...  Segreteria  \n",
      "447  Ho smarrito alcuni documenti scolastici import...  Segreteria  \n",
      "448  Ho provato a contattare la segreteria tramite ...  Segreteria  \n",
      "449  Ho problemi di connessione internet. La rete è...     Tecnico  \n",
      "\n",
      "[3409 rows x 3 columns]\n"
     ]
    }
   ],
   "execution_count": 3
  },
  {
   "metadata": {
    "ExecuteTime": {
     "end_time": "2025-02-04T14:47:51.852521Z",
     "start_time": "2025-02-04T14:47:51.846149Z"
    }
   },
   "cell_type": "code",
   "source": [
    "x=dataframe['categoria'].value_counts()\n",
    "print(x)"
   ],
   "id": "d4c17a691323ffd",
   "outputs": [
    {
     "name": "stdout",
     "output_type": "stream",
     "text": [
      "categoria\n",
      "Segreteria    866\n",
      "Didattica     707\n",
      "Profilo       650\n",
      "Accesso       634\n",
      "Tecnico       552\n",
      "Name: count, dtype: int64\n"
     ]
    }
   ],
   "execution_count": 4
  },
  {
   "metadata": {
    "ExecuteTime": {
     "end_time": "2025-02-04T14:47:55.839578Z",
     "start_time": "2025-02-04T14:47:55.665403Z"
    }
   },
   "cell_type": "code",
   "source": "sns.barplot(x)",
   "id": "2171e9b46623387a",
   "outputs": [
    {
     "data": {
      "text/plain": [
       "<Axes: xlabel='categoria', ylabel='count'>"
      ]
     },
     "execution_count": 5,
     "metadata": {},
     "output_type": "execute_result"
    },
    {
     "data": {
      "text/plain": [
       "<Figure size 640x480 with 1 Axes>"
      ],
      "image/png": "[encoded data removed]"
     },
     "metadata": {},
     "output_type": "display_data"
    }
   ],
   "execution_count": 5
  },
  {
   "metadata": {
    "ExecuteTime": {
     "end_time": "2025-02-03T09:52:17.934341Z",
     "start_time": "2025-02-03T09:52:17.925992Z"
    }
   },
   "cell_type": "code",
   "source": [
    "frame = dataframe['titolo'] + dataframe['messaggio']\n",
    "print(frame)"
   ],
   "id": "85692b2e46379d58",
   "outputs": [
    {
     "name": "stdout",
     "output_type": "stream",
     "text": [
      "0      Login ErroreBuongiorno, sto riscontrando un pr...\n",
      "1      Modifica Dati ProfiloSalve, ho notato che i mi...\n",
      "2      Assistenza Sistema ScuolaBuonasera, utilizzo r...\n",
      "3      Errore Prenotazione RicevimentoGentile team, h...\n",
      "4      Problema Visualizzazione VotiBuongiorno, duran...\n",
      "                             ...                        \n",
      "445    Informazioni Tasse Scolastiche - Mancanza di C...\n",
      "446    Cambio Classe - Richiesta Respinta Senza Motiv...\n",
      "447    Documenti Smarriti - Richiesta di AssistenzaHo...\n",
      "448    Contatto Segreteria - Nessuna RispostaHo prova...\n",
      "449    Problemi di Connessione - Rete Lenta e Instabi...\n",
      "Length: 2610, dtype: object\n"
     ]
    }
   ],
   "execution_count": 15
  },
  {
   "metadata": {
    "ExecuteTime": {
     "end_time": "2025-02-03T09:55:36.471775Z",
     "start_time": "2025-02-03T09:55:36.418734Z"
    }
   },
   "cell_type": "code",
   "source": [
    "dataframe['titolo_messaggio'] = dataframe['titolo'] + ' ' + dataframe['messaggio']\n",
    "frame = dataframe[['titolo_messaggio', 'categoria']]\n",
    "print(frame)"
   ],
   "id": "985399eacf840010",
   "outputs": [
    {
     "name": "stdout",
     "output_type": "stream",
     "text": [
      "                                         combined_text   categoria\n",
      "0    Login Errore Buongiorno, sto riscontrando un p...     Accesso\n",
      "1    Modifica Dati Profilo Salve, ho notato che i m...     Profilo\n",
      "2    Assistenza Sistema Scuola Buonasera, utilizzo ...   Didattica\n",
      "3    Errore Prenotazione Ricevimento Gentile team, ...  Segreteria\n",
      "4    Problema Visualizzazione Voti Buongiorno, dura...   Didattica\n",
      "..                                                 ...         ...\n",
      "445  Informazioni Tasse Scolastiche - Mancanza di C...  Segreteria\n",
      "446  Cambio Classe - Richiesta Respinta Senza Motiv...  Segreteria\n",
      "447  Documenti Smarriti - Richiesta di Assistenza H...  Segreteria\n",
      "448  Contatto Segreteria - Nessuna Risposta Ho prov...  Segreteria\n",
      "449  Problemi di Connessione - Rete Lenta e Instabi...     Tecnico\n",
      "\n",
      "[2610 rows x 2 columns]\n"
     ]
    }
   ],
   "execution_count": 16
  },
  {
   "metadata": {},
   "cell_type": "code",
   "outputs": [],
   "execution_count": null,
   "source": [
    "train_set, test_set = train_test_split(dataframe, random_state=42, test_size=0.2)\n",
    "print(train_set.shape, test_set.shape)"
   ],
   "id": "9bb74ea1dddbc82"
  },
  {
   "metadata": {},
   "cell_type": "code",
   "source": "",
   "id": "f724e7a3437ba4e5",
   "outputs": [],
   "execution_count": null
  }
 ],
 "metadata": {
  "kernelspec": {
   "display_name": "Python 3",
   "language": "python",
   "name": "python3"
  },
  "language_info": {
   "codemirror_mode": {
    "name": "ipython",
    "version": 2
   },
   "file_extension": ".py",
   "mimetype": "text/x-python",
   "name": "python",
   "nbconvert_exporter": "python",
   "pygments_lexer": "ipython2",
   "version": "2.7.6"
  }
 },
 "nbformat": 4,
 "nbformat_minor": 5
}
