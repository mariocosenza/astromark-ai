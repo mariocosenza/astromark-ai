{
 "cells": [
  {
   "cell_type": "code",
   "id": "initial_id",
   "metadata": {
    "collapsed": true,
    "ExecuteTime": {
     "end_time": "2025-02-04T11:57:40.975159Z",
     "start_time": "2025-02-04T11:57:40.923879Z"
    }
   },
   "source": [
    "import pandas as pd\n",
    "import seaborn as sns\n",
    "import numpy as np\n",
    "import re, string\n",
    "from sklearn.model_selection import train_test_split\n",
    "from sklearn.linear_model import LogisticRegression\n",
    "from sklearn.naive_bayes import MultinomialNB\n",
    "from sklearn.metrics import classification_report, f1_score, accuracy_score, confusion_matrix\n",
    "from sklearn.metrics import roc_curve, auc, roc_auc_score\n",
    "from sklearn.feature_extraction.text import TfidfVectorizer\n",
    "from sklearn.feature_extraction.text import CountVectorizer\n",
    "dataframe_o3 = pd.read_csv(\"../data/raw/ticket-o3.csv\", usecols = ['titolo','messaggio','categoria'])\n",
    "dataframe_gc = pd.read_csv(\"../data/raw/ticket-gemini-claude.csv\", usecols = ['titolo','messaggio','categoria'])"
   ],
   "outputs": [],
   "execution_count": 14
  },
  {
   "metadata": {
    "ExecuteTime": {
     "end_time": "2025-02-04T11:57:45.888729Z",
     "start_time": "2025-02-04T11:57:45.864464Z"
    }
   },
   "cell_type": "code",
   "source": [
    "dataframe = pd.concat([dataframe_o3,dataframe_gc])\n",
    "dataframe.drop_duplicates(inplace=True)\n",
    "print(dataframe)"
   ],
   "id": "75de9be00e0effb2",
   "outputs": [
    {
     "name": "stdout",
     "output_type": "stream",
     "text": [
      "                                         titolo  \\\n",
      "0                                  Login Errore   \n",
      "1                         Modifica Dati Profilo   \n",
      "2                     Assistenza Sistema Scuola   \n",
      "3               Errore Prenotazione Ricevimento   \n",
      "4                 Problema Visualizzazione Voti   \n",
      "..                                          ...   \n",
      "405        Problemi Tecnici - Piattaforma Lenta   \n",
      "406              Sito Web - Problemi di Accesso   \n",
      "407             Bug - Richiesta di Informazioni   \n",
      "408  Assistenza Tecnica - Richiesta di Contatto   \n",
      "409       Microfono - Problemi di Registrazione   \n",
      "\n",
      "                                             messaggio   categoria  \n",
      "0    Buongiorno, sto riscontrando un problema con i...     Accesso  \n",
      "1    Salve, ho notato che i miei dati di contatto n...     Profilo  \n",
      "2    Buonasera, utilizzo regolarmente la piattaform...   Didattica  \n",
      "3    Gentile team, ho provato a prenotare un appunt...  Segreteria  \n",
      "4    Buongiorno, durante la consultazione della mia...   Didattica  \n",
      "..                                                 ...         ...  \n",
      "405            La piattaforma è molto lenta. Come mai?     Tecnico  \n",
      "406  Non riesco ad accedere al sito web. Come posso...     Tecnico  \n",
      "407  Ho segnalato un bug, ma non ho ricevuto inform...     Tecnico  \n",
      "408  Vorrei essere contattato dall'assistenza tecni...     Tecnico  \n",
      "409  Non riesco a registrare con il microfono. Come...     Tecnico  \n",
      "\n",
      "[2367 rows x 3 columns]\n"
     ]
    }
   ],
   "execution_count": 15
  },
  {
   "metadata": {
    "ExecuteTime": {
     "end_time": "2025-02-04T11:57:49.516822Z",
     "start_time": "2025-02-04T11:57:49.495710Z"
    }
   },
   "cell_type": "code",
   "source": [
    "x=dataframe['categoria'].value_counts()\n",
    "print(x)"
   ],
   "id": "d4c17a691323ffd",
   "outputs": [
    {
     "name": "stdout",
     "output_type": "stream",
     "text": [
      "categoria\n",
      "Segreteria    765\n",
      "Didattica     666\n",
      "Accesso       356\n",
      "Profilo       332\n",
      "Tecnico       248\n",
      "Name: count, dtype: int64\n"
     ]
    }
   ],
   "execution_count": 16
  },
  {
   "metadata": {
    "ExecuteTime": {
     "end_time": "2025-02-04T11:57:52.432897Z",
     "start_time": "2025-02-04T11:57:52.265426Z"
    }
   },
   "cell_type": "code",
   "source": "sns.barplot(x)",
   "id": "2171e9b46623387a",
   "outputs": [
    {
     "data": {
      "text/plain": [
       "<Axes: xlabel='categoria', ylabel='count'>"
      ]
     },
     "execution_count": 17,
     "metadata": {},
     "output_type": "execute_result"
    },
    {
     "data": {
      "text/plain": [
       "<Figure size 640x480 with 1 Axes>"
      ],
      "image/png": "[encoded data removed]"
     },
     "metadata": {},
     "output_type": "display_data"
    }
   ],
   "execution_count": 17
  },
  {
   "metadata": {
    "ExecuteTime": {
     "end_time": "2025-02-04T11:57:55.793140Z",
     "start_time": "2025-02-04T11:57:55.779308Z"
    }
   },
   "cell_type": "code",
   "source": [
    "frame = dataframe['titolo'] + dataframe['messaggio']\n",
    "print(frame)"
   ],
   "id": "85692b2e46379d58",
   "outputs": [
    {
     "name": "stdout",
     "output_type": "stream",
     "text": [
      "0      Login ErroreBuongiorno, sto riscontrando un pr...\n",
      "1      Modifica Dati ProfiloSalve, ho notato che i mi...\n",
      "2      Assistenza Sistema ScuolaBuonasera, utilizzo r...\n",
      "3      Errore Prenotazione RicevimentoGentile team, h...\n",
      "4      Problema Visualizzazione VotiBuongiorno, duran...\n",
      "                             ...                        \n",
      "405    Problemi Tecnici - Piattaforma LentaLa piattaf...\n",
      "406    Sito Web - Problemi di AccessoNon riesco ad ac...\n",
      "407    Bug - Richiesta di InformazioniHo segnalato un...\n",
      "408    Assistenza Tecnica - Richiesta di ContattoVorr...\n",
      "409    Microfono - Problemi di RegistrazioneNon riesc...\n",
      "Length: 2367, dtype: object\n"
     ]
    }
   ],
   "execution_count": 18
  },
  {
   "metadata": {
    "ExecuteTime": {
     "end_time": "2025-02-04T11:57:58.651442Z",
     "start_time": "2025-02-04T11:57:58.622213Z"
    }
   },
   "cell_type": "code",
   "source": [
    "dataframe['titolo_messaggio'] = dataframe['titolo'] + ' ' + dataframe['messaggio']\n",
    "frame = dataframe[['titolo_messaggio', 'categoria']]\n",
    "print(frame)"
   ],
   "id": "985399eacf840010",
   "outputs": [
    {
     "name": "stdout",
     "output_type": "stream",
     "text": [
      "                                      titolo_messaggio   categoria\n",
      "0    Login Errore Buongiorno, sto riscontrando un p...     Accesso\n",
      "1    Modifica Dati Profilo Salve, ho notato che i m...     Profilo\n",
      "2    Assistenza Sistema Scuola Buonasera, utilizzo ...   Didattica\n",
      "3    Errore Prenotazione Ricevimento Gentile team, ...  Segreteria\n",
      "4    Problema Visualizzazione Voti Buongiorno, dura...   Didattica\n",
      "..                                                 ...         ...\n",
      "405  Problemi Tecnici - Piattaforma Lenta La piatta...     Tecnico\n",
      "406  Sito Web - Problemi di Accesso Non riesco ad a...     Tecnico\n",
      "407  Bug - Richiesta di Informazioni Ho segnalato u...     Tecnico\n",
      "408  Assistenza Tecnica - Richiesta di Contatto Vor...     Tecnico\n",
      "409  Microfono - Problemi di Registrazione Non ries...     Tecnico\n",
      "\n",
      "[2367 rows x 2 columns]\n"
     ]
    }
   ],
   "execution_count": 19
  },
  {
   "metadata": {
    "ExecuteTime": {
     "end_time": "2025-02-04T11:58:02.366437Z",
     "start_time": "2025-02-04T11:58:02.355779Z"
    }
   },
   "cell_type": "code",
   "source": [
    "train_set, test_set = train_test_split(dataframe, random_state=42, test_size=0.2)\n",
    "print(train_set.shape, test_set.shape)"
   ],
   "id": "9bb74ea1dddbc82",
   "outputs": [
    {
     "name": "stdout",
     "output_type": "stream",
     "text": [
      "(1893, 4) (474, 4)\n"
     ]
    }
   ],
   "execution_count": 20
  },
  {
   "metadata": {
    "ExecuteTime": {
     "end_time": "2025-02-03T09:51:26.873949Z",
     "start_time": "2025-02-03T09:51:26.856861Z"
    }
   },
   "cell_type": "code",
   "source": "",
   "id": "f724e7a3437ba4e5",
   "outputs": [
    {
     "ename": "NameError",
     "evalue": "name 'frame' is not defined",
     "output_type": "error",
     "traceback": [
      "\u001B[1;31m---------------------------------------------------------------------------\u001B[0m",
      "\u001B[1;31mNameError\u001B[0m                                 Traceback (most recent call last)",
      "Cell \u001B[1;32mIn[13], line 1\u001B[0m\n\u001B[1;32m----> 1\u001B[0m frame \u001B[38;5;241m=\u001B[39m \u001B[43mframe\u001B[49m[\u001B[38;5;124m'\u001B[39m\u001B[38;5;124mtitolo\u001B[39m\u001B[38;5;124m'\u001B[39m] \u001B[38;5;241m+\u001B[39m frame[\u001B[38;5;124m'\u001B[39m\u001B[38;5;124mmessaggio\u001B[39m\u001B[38;5;124m'\u001B[39m]\n",
      "\u001B[1;31mNameError\u001B[0m: name 'frame' is not defined"
     ]
    }
   ],
   "execution_count": 13
  }
 ],
 "metadata": {
  "kernelspec": {
   "display_name": "Python 3",
   "language": "python",
   "name": "python3"
  },
  "language_info": {
   "codemirror_mode": {
    "name": "ipython",
    "version": 2
   },
   "file_extension": ".py",
   "mimetype": "text/x-python",
   "name": "python",
   "nbconvert_exporter": "python",
   "pygments_lexer": "ipython2",
   "version": "2.7.6"
  }
 },
 "nbformat": 4,
 "nbformat_minor": 5
}
